{
 "cells": [
  {
   "cell_type": "code",
   "execution_count": 1,
   "metadata": {},
   "outputs": [],
   "source": [
    "import os\n",
    "from bs4 import BeautifulSoup\n",
    "from selenium import webdriver\n",
    "import sys\n",
    "import json"
   ]
  },
  {
   "cell_type": "code",
   "execution_count": 2,
   "metadata": {},
   "outputs": [
    {
     "name": "stdout",
     "output_type": "stream",
     "text": [
      "chromedriver path: C:/Users/Parakh Gupta/Downloads/setups/chromedriver\n"
     ]
    }
   ],
   "source": [
    "chromedriver = \"C:/Users/Parakh Gupta/Downloads/setups/chromedriver\" # path to the chromedriver executable\n",
    "chromedriver = os.path.expanduser(chromedriver)\n",
    "print('chromedriver path: {}'.format(chromedriver))\n",
    "sys.path.append(chromedriver)\n",
    "driver = webdriver.Chrome(chromedriver)"
   ]
  },
  {
   "cell_type": "code",
   "execution_count": 3,
   "metadata": {},
   "outputs": [],
   "source": [
    "def get_house_links( driver):\n",
    "    house_links=[]\n",
    "    cities=['Gurgaon','Noida','Ghaziabad','Greater-Noida','Bangalore','Mumbai','Pune','Hyderabad','Kolkata','Chennai',\n",
    "            'New-Delhi','Ahmedabad','Navi-Mumbai','Thane','Faridabad','Bhubaneswar','Bokaro-Steel-City','Vijayawada','Vrindavan''Bhopal',\n",
    "            'Gorakhpur','Jamshedpur','Agra','Allahabad','Jodhpur''Aurangabad','Jaipur','Mangalore','Nagpur','Guntur','Navsari','Palghar','Salem','Haridwar','Durgapur',\n",
    "            'Madurai','Manipal','Patna','Ranchi','Raipur','Sonipat','Kottayam','Kozhikode','Thrissur','Tirupati','Trivandrum','Trichy','Udaipur','Vapi','Varanasi',\n",
    "            'Vadodara','Visakhapatnam','Surat','Kanpur','Kochi','Mysore','Goa','Bhiwadi','Lucknow','Nashik','Guwahati','Chandigarh','Indore','Coimbatore','Dehradun']\n",
    "    for city in cities:\n",
    "        for i in range(1,90):\n",
    "            driver.get(\"https://www.magicbricks.com/property-for-sale/residential-real-estate?proptype=Multistorey-Apartment,Builder-Floor-Apartment,Penthouse,Studio-Apartment,Residential-House,Villa&page=\"+str(i)+\"&cityName=\"+str(city))\n",
    "            soup = BeautifulSoup(driver.page_source, 'html.parser')\n",
    "            get_data(soup)"
   ]
  },
  {
   "cell_type": "code",
   "execution_count": 4,
   "metadata": {},
   "outputs": [],
   "source": [
    "def get_data(soup):\n",
    "    h=[]\n",
    "    prop=soup.find_all('div',class_='m-srp-card SRCard')\n",
    "    for i in prop:\n",
    "        name=\"\"\n",
    "        id_=\"\"\n",
    "        description=\"\"\n",
    "        url=\"\"\n",
    "        price=\"\"\n",
    "        priceInWord=\"\"\n",
    "        cityName=\"\"\n",
    "        addressLocality=\"\"\n",
    "        longitude=\"\"\n",
    "        latitude=\"\"\n",
    "        numberOfRooms=\"\"\n",
    "        bathroom=\"\"\n",
    "        bedroom=\"\"\n",
    "        floorSize=\"\"\n",
    "        floorno=\"\"\n",
    "        furnshingstatus=\"\"\n",
    "        agentName=\"\"\n",
    "        agentCompanyName=\"\"\n",
    "        agentMaskedmobilenumber=\"\"\n",
    "        meta=i.find_all('meta')\n",
    "        for m in meta:\n",
    "            if m['itemprop']=='name':\n",
    "                name=m['content']\n",
    "            if m['itemprop']=='description':\n",
    "                description=m['content']\n",
    "            if m['itemprop']=='url':\n",
    "                url=str('https://www.magicbricks.com'+m['content'])\n",
    "            if m['itemprop']=='addressLocality':\n",
    "                addressLocality=m['content']\n",
    "            if m['itemprop']=='longitude':\n",
    "                longitude=m['content']\n",
    "            if m['itemprop']=='latitude':\n",
    "                latitude=m['content']\n",
    "            if m['itemprop']=='numberOfRooms':\n",
    "                numberOfRooms=m['content']\n",
    "            if m['itemprop']=='floorSize':\n",
    "                floorSize=m['content']\n",
    "        s=i.find('span',class_='hidden')\n",
    "        bathroom=s['data-bathroom']\n",
    "        bedroom=s['data-bedroom']\n",
    "        floorno=s['data-floorno']   \n",
    "        furnshingstatus=s['data-furnshingstatus']\n",
    "        price=s['data-price']\n",
    "        id_=s['id']\n",
    "        ag=soup.find('span',id=id_)\n",
    "        priceInWord=ag['data-priced']\n",
    "        cityName=ag['data-cityname']\n",
    "        agentName=ag['data-soname']\n",
    "        agentCompanyName=ag['data-companyname']\n",
    "        agentMaskedmobilenumber=ag['data-maskedmobilenumber']\n",
    "        var = {\n",
    "                \"name\":name,\n",
    "                \"id\":id_,\n",
    "                \"description\":description,\n",
    "                \"url\":url,\n",
    "                \"price\":price,\n",
    "                \"priceInWord\":priceInWord,\n",
    "                \"location\":\n",
    "                        {\n",
    "                            \"cityName\":cityName,\n",
    "                            \"addressLocality\":addressLocality,\n",
    "                            \"longitude\":longitude,\n",
    "                            \"latitude\":latitude,\n",
    "                        },\n",
    "                \"flatDetails\":\n",
    "                        {\n",
    "                            \"numberOfRooms\":numberOfRooms,\n",
    "                            \"bathroom\":bathroom,\n",
    "                            \"bedroom\":bedroom,\n",
    "                            \"floorSize\":floorSize,\n",
    "                            \"floorno\":floorno,\n",
    "                            \"furnshingstatus\":furnshingstatus,\n",
    "                        },\n",
    "                \"agentDetails\":\n",
    "                        {\n",
    "                            \"agentName\":agentName,\n",
    "                            \"agentCompanyName\":agentCompanyName,\n",
    "                            \"agentMaskedmobilenumber\":agentMaskedmobilenumber,\n",
    "                        }\n",
    "\n",
    "            }\n",
    "        #print(var)\n",
    "        h.append(var)\n",
    "    with open(\"data.json\",'r+') as f:\n",
    "        feeds = json.load(f)\n",
    "        for i in h:\n",
    "            feeds['property'].append(var)\n",
    "        f.seek(0)\n",
    "        json.dump(feeds, f)\n",
    "\n"
   ]
  },
  {
   "cell_type": "code",
   "execution_count": 5,
   "metadata": {},
   "outputs": [],
   "source": [
    "v={\n",
    "    \"property\":[]\n",
    "}\n",
    "with open(\"data.json\", mode='w', encoding='utf-8') as f:\n",
    "    json.dump(v,f)"
   ]
  },
  {
   "cell_type": "code",
   "execution_count": null,
   "metadata": {},
   "outputs": [],
   "source": [
    "get_house_links(driver)"
   ]
  },
  {
   "cell_type": "code",
   "execution_count": null,
   "metadata": {},
   "outputs": [],
   "source": []
  }
 ],
 "metadata": {
  "kernelspec": {
   "display_name": "Python 3",
   "language": "python",
   "name": "python3"
  },
  "language_info": {
   "codemirror_mode": {
    "name": "ipython",
    "version": 3
   },
   "file_extension": ".py",
   "mimetype": "text/x-python",
   "name": "python",
   "nbconvert_exporter": "python",
   "pygments_lexer": "ipython3",
   "version": "3.6.3rc1"
  }
 },
 "nbformat": 4,
 "nbformat_minor": 2
}
